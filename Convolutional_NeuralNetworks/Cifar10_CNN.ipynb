{
  "cells": [
    {
      "cell_type": "markdown",
      "source": [
        "Importing Libraries"
      ],
      "metadata": {
        "id": "iEcCZrzHneNh"
      }
    },
    {
      "cell_type": "code",
      "source": [
        "import numpy as np\n",
        "import keras\n",
        "import tensorflow as tf \n",
        "from keras.datasets import cifar10\n",
        "from keras.utils import to_categorical\n",
        "from keras.models import Sequential\n",
        "from keras.layers import Conv2D\n",
        "from keras.layers import MaxPooling2D,BatchNormalization\n",
        "from keras.layers import Dense\n",
        "from keras.layers import Flatten\n",
        "from keras.layers import Dropout\n",
        "from keras.optimizers import RMSprop\n",
        "import matplotlib.pyplot as plt"
      ],
      "metadata": {
        "id": "ca3V_74A7iJn"
      },
      "execution_count": 9,
      "outputs": []
    },
    {
      "cell_type": "markdown",
      "source": [
        "Loading Cifar10 Dataset"
      ],
      "metadata": {
        "id": "PcYqdcyQnh6K"
      }
    },
    {
      "cell_type": "code",
      "source": [
        "(x_train, y_train), (x_test, y_test) = cifar10.load_data()"
      ],
      "metadata": {
        "colab": {
          "base_uri": "https://localhost:8080/"
        },
        "id": "oNYXRk5w7xUi",
        "outputId": "775aa674-9d66-4c5c-ef14-e2bd1399e04b"
      },
      "execution_count": 10,
      "outputs": [
        {
          "output_type": "stream",
          "name": "stdout",
          "text": [
            "Downloading data from https://www.cs.toronto.edu/~kriz/cifar-10-python.tar.gz\n",
            "170498071/170498071 [==============================] - 2s 0us/step\n"
          ]
        }
      ]
    },
    {
      "cell_type": "code",
      "source": [
        "y_train = to_categorical(y_train)\n",
        "y_test = to_categorical(y_test)"
      ],
      "metadata": {
        "id": "Fo37r4vr8k4w"
      },
      "execution_count": 11,
      "outputs": []
    },
    {
      "cell_type": "code",
      "source": [
        "# convert from integers to floats\n",
        "train_norm = x_train.astype('float32')\n",
        "test_norm = x_test.astype('float32')"
      ],
      "metadata": {
        "id": "1TvCDBW28lBK"
      },
      "execution_count": 12,
      "outputs": []
    },
    {
      "cell_type": "code",
      "source": [
        "x_train = train_norm / 255\n",
        "x_test = test_norm / 255"
      ],
      "metadata": {
        "id": "MOlDyXk88r4Q"
      },
      "execution_count": 13,
      "outputs": []
    },
    {
      "cell_type": "code",
      "source": [
        "x_train.shape"
      ],
      "metadata": {
        "colab": {
          "base_uri": "https://localhost:8080/"
        },
        "id": "e6P3eh67X1va",
        "outputId": "738caf82-3273-4ae3-ca3b-b09db516e64c"
      },
      "execution_count": 14,
      "outputs": [
        {
          "output_type": "execute_result",
          "data": {
            "text/plain": [
              "(50000, 32, 32, 3)"
            ]
          },
          "metadata": {},
          "execution_count": 14
        }
      ]
    },
    {
      "cell_type": "markdown",
      "source": [
        "Created CNN Model referring Prof Code"
      ],
      "metadata": {
        "id": "BQBavmMmR3sO"
      }
    },
    {
      "cell_type": "code",
      "source": [
        "model = Sequential()\n",
        "model.add(Conv2D(32, (3, 3),activation='relu', padding='same',\n",
        "                 input_shape=x_train.shape[1:]))\n",
        "\n",
        "model.add(Conv2D(32, (3, 3),activation='relu'))\n",
        "\n",
        "model.add(MaxPooling2D(pool_size=(2, 2)))\n",
        "model.add(Dropout(0.25))\n",
        "\n",
        "model.add(Conv2D(64, (3, 3),activation='relu', padding='same'))\n",
        "\n",
        "model.add(MaxPooling2D(pool_size=(2, 2)))\n",
        "model.add(Dropout(0.25))\n",
        "\n",
        "model.add(Flatten())\n",
        "model.add(Dense(512,activation='relu'))\n",
        "\n",
        "model.add(Dropout(0.5))\n",
        "model.add(Dense(10,activation='softmax'))\n",
        "# initiate RMSprop optimizer\n",
        "opt = tf.keras.optimizers.RMSprop(learning_rate=0.00001)\n",
        "\n",
        "# Let's train the model using RMSprop\n",
        "model.compile(loss='categorical_crossentropy',\n",
        "              optimizer=opt,\n",
        "              metrics=['accuracy'])"
      ],
      "metadata": {
        "id": "4pGZwhla8rww"
      },
      "execution_count": 8,
      "outputs": []
    },
    {
      "cell_type": "code",
      "source": [
        "batch_size = 32\n",
        "epochs = 8 \n",
        "cnn_model_his=model.fit(x_train, y_train,\n",
        "              batch_size=batch_size,\n",
        "              epochs=epochs,\n",
        "              validation_data=(x_test, y_test),\n",
        "              shuffle=True)"
      ],
      "metadata": {
        "id": "FAQE2Z4n8rpN",
        "colab": {
          "base_uri": "https://localhost:8080/"
        },
        "outputId": "4f52d113-4f37-450d-aeb9-ea0cb12d85fa"
      },
      "execution_count": 9,
      "outputs": [
        {
          "output_type": "stream",
          "name": "stdout",
          "text": [
            "Epoch 1/8\n",
            "1563/1563 [==============================] - 244s 155ms/step - loss: 2.2258 - accuracy: 0.1862 - val_loss: 2.0920 - val_accuracy: 0.3056\n",
            "Epoch 2/8\n",
            "1563/1563 [==============================] - 245s 157ms/step - loss: 2.0045 - accuracy: 0.2794 - val_loss: 1.9071 - val_accuracy: 0.3512\n",
            "Epoch 3/8\n",
            "1563/1563 [==============================] - 232s 149ms/step - loss: 1.8696 - accuracy: 0.3278 - val_loss: 1.7856 - val_accuracy: 0.3937\n",
            "Epoch 4/8\n",
            "1563/1563 [==============================] - 237s 152ms/step - loss: 1.7769 - accuracy: 0.3622 - val_loss: 1.7081 - val_accuracy: 0.4127\n",
            "Epoch 5/8\n",
            "1563/1563 [==============================] - 244s 156ms/step - loss: 1.7172 - accuracy: 0.3823 - val_loss: 1.6500 - val_accuracy: 0.4298\n",
            "Epoch 6/8\n",
            "1563/1563 [==============================] - 232s 149ms/step - loss: 1.6662 - accuracy: 0.4003 - val_loss: 1.6053 - val_accuracy: 0.4387\n",
            "Epoch 7/8\n",
            "1563/1563 [==============================] - 231s 148ms/step - loss: 1.6284 - accuracy: 0.4136 - val_loss: 1.5643 - val_accuracy: 0.4499\n",
            "Epoch 8/8\n",
            "1563/1563 [==============================] - 229s 147ms/step - loss: 1.5921 - accuracy: 0.4273 - val_loss: 1.5362 - val_accuracy: 0.4558\n"
          ]
        }
      ]
    },
    {
      "cell_type": "code",
      "source": [
        "model_evaluation_history = model.evaluate(x_test, y_test)"
      ],
      "metadata": {
        "colab": {
          "base_uri": "https://localhost:8080/"
        },
        "id": "6W4YORxgPBLZ",
        "outputId": "8aa0884d-9983-47e2-ee01-d10c4b7f6ff0"
      },
      "execution_count": 10,
      "outputs": [
        {
          "output_type": "stream",
          "name": "stdout",
          "text": [
            "313/313 [==============================] - 10s 32ms/step - loss: 1.5362 - accuracy: 0.4558\n"
          ]
        }
      ]
    },
    {
      "cell_type": "code",
      "source": [
        "def plot_metric(model_training_history, metric_name_1, metric_name_2, plot_name):\n",
        "        \n",
        "    # Get metric values using metric names as identifiers.\n",
        "    metric_value_1 = model_training_history.history[metric_name_1]\n",
        "    metric_value_2 = model_training_history.history[metric_name_2]\n",
        "    \n",
        "    # Construct a range object which will be used as x-axis (horizontal plane) of the graph.\n",
        "    epochs = range(len(metric_value_1))\n",
        "\n",
        "    # Plot the Graph.\n",
        "    plt.plot(epochs, metric_value_1, 'blue', label = metric_name_1)\n",
        "    plt.plot(epochs, metric_value_2, 'red', label = metric_name_2)\n",
        "\n",
        "    # Add title to the plot.\n",
        "    plt.title(str(plot_name))\n",
        "\n",
        "    # Add legend to the plot.\n",
        "    plt.legend()"
      ],
      "metadata": {
        "id": "7PMnfLSmUOb5"
      },
      "execution_count": 4,
      "outputs": []
    },
    {
      "cell_type": "code",
      "source": [
        "# Visualize the training and validation loss metrices.\n",
        "plot_metric(cnn_model_his, 'accuracy', 'val_accuracy', 'Total Accyracy vs Total Validation Accuracy')"
      ],
      "metadata": {
        "colab": {
          "base_uri": "https://localhost:8080/",
          "height": 281
        },
        "id": "i3vXAdA1UQh7",
        "outputId": "e6599072-b0c3-4fae-bcd5-73513279406c"
      },
      "execution_count": 12,
      "outputs": [
        {
          "output_type": "display_data",
          "data": {
            "text/plain": [
              "<Figure size 432x288 with 1 Axes>"
            ],
            "image/png": "[encoded data removed]"
          },
          "metadata": {
            "needs_background": "light"
          }
        }
      ]
    },
    {
      "cell_type": "code",
      "source": [
        "from tensorflow.keras.utils import plot_model\n",
        "# Visualize the training and validation loss metrices.\n",
        "plot_metric(cnn_model_his, 'loss', 'val_loss', 'Total Loss vs Total Validation Loss')"
      ],
      "metadata": {
        "id": "CmDc0v5U8lKk",
        "colab": {
          "base_uri": "https://localhost:8080/",
          "height": 281
        },
        "outputId": "0838ee02-4301-46a0-b184-3ab4826ad4b5"
      },
      "execution_count": 13,
      "outputs": [
        {
          "output_type": "display_data",
          "data": {
            "text/plain": [
              "<Figure size 432x288 with 1 Axes>"
            ],
            "image/png": "[encoded data removed]"
          },
          "metadata": {
            "needs_background": "light"
          }
        }
      ]
    },
    {
      "cell_type": "markdown",
      "source": [
        "Saving the model"
      ],
      "metadata": {
        "id": "l78bKxBgnyWx"
      }
    },
    {
      "cell_type": "code",
      "source": [
        "import datetime as dt\n",
        "model_evaluation_loss, model_evaluation_accuracy = model_evaluation_history\n",
        "date_time_format = '%Y_%m_%d__%H_%M_%S'\n",
        "current_date_time_dt = dt.datetime.now()\n",
        "current_date_time_string = dt.datetime.strftime(current_date_time_dt, date_time_format)"
      ],
      "metadata": {
        "id": "HFBzx6aKPW7O"
      },
      "execution_count": 14,
      "outputs": []
    },
    {
      "cell_type": "code",
      "source": [
        "import os\n",
        "checkpoint_path = \"training_1/cp.ckpt\"\n",
        "checkpoint_dir = os.path.dirname(checkpoint_path)\n",
        "\n",
        "# Create a callback that saves the model's weights\n",
        "cp_callback = tf.keras.callbacks.ModelCheckpoint(filepath=checkpoint_path,\n",
        "                                                 save_weights_only=True,\n",
        "                                                 verbose=1)\n",
        "model_file_name = f'PROF_CNN_model___Date_Time_{current_date_time_string}___Loss_{model_evaluation_loss}___Accuracy_{model_evaluation_accuracy}.h5'\n",
        "model.save(model_file_name)"
      ],
      "metadata": {
        "id": "ddVgOO-_8rfL"
      },
      "execution_count": 15,
      "outputs": []
    },
    {
      "cell_type": "markdown",
      "source": [
        "Created CNN Model 2"
      ],
      "metadata": {
        "id": "QT75BqigRbd8"
      }
    },
    {
      "cell_type": "code",
      "source": [
        "new_cnn_model = Sequential()\n",
        "new_cnn_model.add(Conv2D(32, (3, 3),activation='relu', padding='same',\n",
        "                 input_shape=x_train.shape[1:]))\n",
        "\n",
        "\n",
        "new_cnn_model.add(MaxPooling2D(pool_size=(2, 2)))\n",
        "new_cnn_model.add(Dropout(0.5))                                                   #modified the dropout\n",
        "\n",
        "new_cnn_model.add(Conv2D(64, (3, 3),activation='relu', padding='same'))\n",
        "new_cnn_model.add(MaxPooling2D(pool_size=(2, 2)))\n",
        "new_cnn_model.add(Dropout(0.5))\n",
        "\n",
        "new_cnn_model.add(Conv2D(128, (3, 3),activation='relu', padding='same'))           #added Conv2D Layer                    \n",
        "new_cnn_model.add(MaxPooling2D(pool_size=(2, 2)))\n",
        "new_cnn_model.add(Dropout(0.5))\n",
        "\n",
        "new_cnn_model.add(Flatten())\n",
        "new_cnn_model.add(Dense(512,activation='relu'))\n",
        "\n",
        "new_cnn_model.add(Dropout(0.5))                                                     #modified the dropout\n",
        "new_cnn_model.add(Dense(10,activation='softmax'))\n",
        "# initiate RMSprop optimizer\n",
        "opt = tf.keras.optimizers.RMSprop(learning_rate=0.001)   \n",
        "\n",
        "# Let's train the model using RMSprop\n",
        "new_cnn_model.compile(loss='categorical_crossentropy',\n",
        "              optimizer=opt,\n",
        "              metrics=['accuracy'])"
      ],
      "metadata": {
        "id": "52xZF5hg2VGb"
      },
      "execution_count": 17,
      "outputs": []
    },
    {
      "cell_type": "code",
      "source": [
        "batch_size = 32\n",
        "epochs = 8 \n",
        "new_cnn_model_his=new_cnn_model.fit(x_train, y_train,\n",
        "              batch_size=batch_size,\n",
        "              epochs=epochs,\n",
        "              validation_data=(x_test, y_test),shuffle=True)"
      ],
      "metadata": {
        "colab": {
          "base_uri": "https://localhost:8080/"
        },
        "outputId": "6acdefd6-c78f-44eb-b3e0-f173c0d12368",
        "id": "9svuvSjq2VGm"
      },
      "execution_count": 18,
      "outputs": [
        {
          "output_type": "stream",
          "name": "stdout",
          "text": [
            "Epoch 1/8\n",
            "1563/1563 [==============================] - 166s 105ms/step - loss: 1.7152 - accuracy: 0.3719 - val_loss: 1.6585 - val_accuracy: 0.4169\n",
            "Epoch 2/8\n",
            "1563/1563 [==============================] - 176s 113ms/step - loss: 1.4793 - accuracy: 0.4679 - val_loss: 1.4740 - val_accuracy: 0.4889\n",
            "Epoch 3/8\n",
            "1563/1563 [==============================] - 174s 112ms/step - loss: 1.4356 - accuracy: 0.4917 - val_loss: 2.7600 - val_accuracy: 0.2707\n",
            "Epoch 4/8\n",
            "1563/1563 [==============================] - 177s 113ms/step - loss: 1.4294 - accuracy: 0.4966 - val_loss: 1.5235 - val_accuracy: 0.4799\n",
            "Epoch 5/8\n",
            "1563/1563 [==============================] - 170s 109ms/step - loss: 1.4400 - accuracy: 0.5028 - val_loss: 1.5792 - val_accuracy: 0.4631\n",
            "Epoch 6/8\n",
            "1563/1563 [==============================] - 169s 108ms/step - loss: 1.4496 - accuracy: 0.5013 - val_loss: 1.4936 - val_accuracy: 0.5125\n",
            "Epoch 7/8\n",
            "1563/1563 [==============================] - 168s 107ms/step - loss: 1.4618 - accuracy: 0.4971 - val_loss: 1.5063 - val_accuracy: 0.4914\n",
            "Epoch 8/8\n",
            "1563/1563 [==============================] - 168s 108ms/step - loss: 1.4816 - accuracy: 0.4912 - val_loss: 1.7445 - val_accuracy: 0.3947\n"
          ]
        }
      ]
    },
    {
      "cell_type": "code",
      "source": [
        "model_evaluation_history = new_cnn_model.evaluate(x_test, y_test)"
      ],
      "metadata": {
        "colab": {
          "base_uri": "https://localhost:8080/"
        },
        "outputId": "911b314d-2d58-4d08-e8eb-15bf32d070cf",
        "id": "yaKQkJKJ2VGn"
      },
      "execution_count": 19,
      "outputs": [
        {
          "output_type": "stream",
          "name": "stdout",
          "text": [
            "313/313 [==============================] - 20s 62ms/step - loss: 1.7445 - accuracy: 0.3947\n"
          ]
        }
      ]
    },
    {
      "cell_type": "code",
      "source": [
        "# Visualize the training and validation loss metrices.\n",
        "plot_metric(new_cnn_model_his, 'accuracy', 'val_accuracy', 'Total Accuracy vs Total Validation Accuracy')"
      ],
      "metadata": {
        "colab": {
          "base_uri": "https://localhost:8080/",
          "height": 281
        },
        "outputId": "0ab6b340-40db-4519-a94d-a99048ac98c9",
        "id": "laFX1A7b2VGn"
      },
      "execution_count": 22,
      "outputs": [
        {
          "output_type": "display_data",
          "data": {
            "text/plain": [
              "<Figure size 432x288 with 1 Axes>"
            ],
            "image/png": "[encoded data removed]"
          },
          "metadata": {
            "needs_background": "light"
          }
        }
      ]
    },
    {
      "cell_type": "code",
      "source": [
        "from tensorflow.keras.utils import plot_model\n",
        "# Visualize the training and validation loss metrices.\n",
        "plot_metric(new_cnn_model_his, 'loss', 'val_loss', 'Total Loss vs Total Validation Loss')"
      ],
      "metadata": {
        "colab": {
          "base_uri": "https://localhost:8080/",
          "height": 281
        },
        "outputId": "5d7f2f3f-979b-439c-ff29-cda1ef502607",
        "id": "uMvI5WWq2VGn"
      },
      "execution_count": 23,
      "outputs": [
        {
          "output_type": "display_data",
          "data": {
            "text/plain": [
              "<Figure size 432x288 with 1 Axes>"
            ],
            "image/png": "[encoded data removed]"
          },
          "metadata": {
            "needs_background": "light"
          }
        }
      ]
    },
    {
      "cell_type": "markdown",
      "source": [
        "Created Model #3"
      ],
      "metadata": {
        "id": "FfycTh1voMtC"
      }
    },
    {
      "cell_type": "code",
      "source": [
        "new_cnn_model3 = Sequential()                                                     \n",
        "new_cnn_model3.add(Conv2D(32, (3, 3),activation='relu', padding='same',\n",
        "                 input_shape=x_train.shape[1:]))\n",
        "new_cnn_model3.add(Conv2D(32, (3, 3),activation='relu'))                         # Added 2 Conv2D layers followed by BatchNormalization Layer\n",
        "new_cnn_model3.add(BatchNormalization())\n",
        "new_cnn_model3.add(MaxPooling2D(pool_size=(2, 2)))\n",
        "new_cnn_model3.add(Dropout(0.5))                                                  #Set Dropout to 0.5\n",
        "\n",
        "new_cnn_model3.add(Conv2D(64, (3, 3),activation='relu', padding='same'))\n",
        "new_cnn_model3.add(BatchNormalization())\n",
        "new_cnn_model3.add(MaxPooling2D(pool_size=(2, 2)))\n",
        "new_cnn_model3.add(Dropout(0.25))\n",
        "\n",
        "new_cnn_model3.add(Flatten())\n",
        "new_cnn_model3.add(Dense(256,activation='relu'))                                   \n",
        "\n",
        "new_cnn_model3.add(Dropout(0.25))\n",
        "new_cnn_model3.add(Dense(10,activation='softmax'))\n",
        "# initiate SGD optimizer\n",
        "opt = tf.keras.optimizers.SGD(learning_rate=0.0001)                                \n",
        "\n",
        "# train the model using SGD\n",
        "new_cnn_model3.compile(loss='categorical_crossentropy',\n",
        "              optimizer=opt,\n",
        "              metrics=['accuracy'])"
      ],
      "metadata": {
        "id": "xtRVjZEvX5An"
      },
      "execution_count": 15,
      "outputs": []
    },
    {
      "cell_type": "code",
      "source": [
        "batch_size = 32\n",
        "epochs = 5\n",
        "new_cnn3_model_his=new_cnn_model3.fit(x_train, y_train,\n",
        "              batch_size=batch_size,\n",
        "              epochs=epochs,\n",
        "              validation_data=(x_test, y_test),shuffle=True)"
      ],
      "metadata": {
        "colab": {
          "base_uri": "https://localhost:8080/"
        },
        "outputId": "44d31672-e268-45f2-e1ec-0ad682ebd751",
        "id": "R7T5Sj86X5An"
      },
      "execution_count": 16,
      "outputs": [
        {
          "output_type": "stream",
          "name": "stdout",
          "text": [
            "Epoch 1/5\n",
            "1563/1563 [==============================] - 236s 150ms/step - loss: 3.1692 - accuracy: 0.1454 - val_loss: 2.1261 - val_accuracy: 0.2438\n",
            "Epoch 2/5\n",
            "1563/1563 [==============================] - 235s 150ms/step - loss: 2.5170 - accuracy: 0.2009 - val_loss: 1.9895 - val_accuracy: 0.2837\n",
            "Epoch 3/5\n",
            "1563/1563 [==============================] - 236s 151ms/step - loss: 2.2565 - accuracy: 0.2362 - val_loss: 1.9276 - val_accuracy: 0.2998\n",
            "Epoch 4/5\n",
            "1563/1563 [==============================] - 236s 151ms/step - loss: 2.1294 - accuracy: 0.2572 - val_loss: 1.8511 - val_accuracy: 0.3374\n",
            "Epoch 5/5\n",
            "1563/1563 [==============================] - 235s 151ms/step - loss: 2.0607 - accuracy: 0.2717 - val_loss: 1.8115 - val_accuracy: 0.3498\n"
          ]
        }
      ]
    },
    {
      "cell_type": "code",
      "source": [
        "model_evaluation_history = new_cnn_model3.evaluate(x_test, y_test)"
      ],
      "metadata": {
        "colab": {
          "base_uri": "https://localhost:8080/"
        },
        "outputId": "b34c2d15-bc0f-4422-fff7-49d81de75d42",
        "id": "O7ZW202WX5Ao"
      },
      "execution_count": 17,
      "outputs": [
        {
          "output_type": "stream",
          "name": "stdout",
          "text": [
            "313/313 [==============================] - 11s 34ms/step - loss: 1.8115 - accuracy: 0.3498\n"
          ]
        }
      ]
    },
    {
      "cell_type": "code",
      "source": [
        "# Visualize the training and validation loss metrices.\n",
        "plot_metric(new_cnn3_model_his, 'accuracy', 'val_accuracy', 'Total Accuracy vs Total Validation Accuracy')"
      ],
      "metadata": {
        "colab": {
          "base_uri": "https://localhost:8080/",
          "height": 281
        },
        "outputId": "be18c43f-ae4e-46fc-b8f1-33db64ebb2f3",
        "id": "Ne_rfZ1-X5Ao"
      },
      "execution_count": 18,
      "outputs": [
        {
          "output_type": "display_data",
          "data": {
            "text/plain": [
              "<Figure size 432x288 with 1 Axes>"
            ],
            "image/png": "[encoded data removed]"
          },
          "metadata": {
            "needs_background": "light"
          }
        }
      ]
    },
    {
      "cell_type": "code",
      "source": [
        "from tensorflow.keras.utils import plot_model\n",
        "# Visualize the training and validation loss metrices.\n",
        "plot_metric(new_cnn3_model_his, 'loss', 'val_loss', 'Total Loss vs Total Validation Loss')"
      ],
      "metadata": {
        "colab": {
          "base_uri": "https://localhost:8080/",
          "height": 281
        },
        "outputId": "258516e3-a965-4803-d597-9afa4b27bdd2",
        "id": "AaIsUx3yX5Ao"
      },
      "execution_count": 19,
      "outputs": [
        {
          "output_type": "display_data",
          "data": {
            "text/plain": [
              "<Figure size 432x288 with 1 Axes>"
            ],
            "image/png": "[encoded data removed]"
          },
          "metadata": {
            "needs_background": "light"
          }
        }
      ]
    },
    {
      "cell_type": "code",
      "source": [],
      "metadata": {
        "id": "KNrg7txr09N_"
      },
      "execution_count": null,
      "outputs": []
    },
    {
      "cell_type": "code",
      "source": [],
      "metadata": {
        "id": "_HyYdG4ilxwz"
      },
      "execution_count": null,
      "outputs": []
    },
    {
      "cell_type": "code",
      "source": [
        "new_cnn_model4 = Sequential()\n",
        "new_cnn_model4.add(Conv2D(32, (3, 3),activation='relu', padding='same',\n",
        "                 input_shape=x_train.shape[1:]))\n",
        "new_cnn_model4.add(Conv2D(64, (3, 3),activation='relu'))\n",
        "new_cnn_model4.add(BatchNormalization())\n",
        "new_cnn_model4.add(MaxPooling2D(pool_size=(2, 2)))\n",
        "\n",
        "\n",
        "new_cnn_model4.add(Conv2D(128, (3, 3),activation='relu', padding='same'))\n",
        "new_cnn_model4.add(BatchNormalization())\n",
        "new_cnn_model4.add(MaxPooling2D(pool_size=(2, 2)))\n",
        "new_cnn_model4.add(Dropout(0.25))\n",
        "\n",
        "new_cnn_model4.add(Flatten())\n",
        "new_cnn_model4.add(Dense(512,activation='relu'))\n",
        "\n",
        "new_cnn_model4.add(Dropout(0.1))\n",
        "new_cnn_model4.add(Dense(10,activation='softmax'))\n",
        "# initiate SGD optimizer\n",
        "opt = tf.keras.optimizers.SGD(learning_rate=0.0001)\n",
        "\n",
        "# Let's train the model using SGD\n",
        "new_cnn_model4.compile(loss='categorical_crossentropy',\n",
        "              optimizer=opt,\n",
        "              metrics=['accuracy'])"
      ],
      "metadata": {
        "id": "bsNMCZF5lyFr"
      },
      "execution_count": 20,
      "outputs": []
    },
    {
      "cell_type": "code",
      "source": [
        "batch_size = 48\n",
        "epochs = 5\n",
        "new_cnn_model4_his=new_cnn_model3.fit(x_train, y_train,\n",
        "              batch_size=batch_size,\n",
        "              epochs=epochs,\n",
        "              validation_data=(x_test, y_test),shuffle=True)"
      ],
      "metadata": {
        "colab": {
          "base_uri": "https://localhost:8080/"
        },
        "outputId": "ce2ce70e-0cb2-45d6-d04a-7ca5eb4d50c3",
        "id": "VG9vDEEVlyFs"
      },
      "execution_count": 21,
      "outputs": [
        {
          "output_type": "stream",
          "name": "stdout",
          "text": [
            "Epoch 1/5\n",
            "1042/1042 [==============================] - 227s 218ms/step - loss: 2.0061 - accuracy: 0.2844 - val_loss: 1.8052 - val_accuracy: 0.3509\n",
            "Epoch 2/5\n",
            "1042/1042 [==============================] - 227s 217ms/step - loss: 1.9682 - accuracy: 0.2934 - val_loss: 1.7661 - val_accuracy: 0.3656\n",
            "Epoch 3/5\n",
            "1042/1042 [==============================] - 226s 217ms/step - loss: 1.9382 - accuracy: 0.3063 - val_loss: 1.7639 - val_accuracy: 0.3668\n",
            "Epoch 4/5\n",
            "1042/1042 [==============================] - 226s 217ms/step - loss: 1.9193 - accuracy: 0.3097 - val_loss: 1.7697 - val_accuracy: 0.3649\n",
            "Epoch 5/5\n",
            "1042/1042 [==============================] - 227s 218ms/step - loss: 1.8961 - accuracy: 0.3168 - val_loss: 1.7198 - val_accuracy: 0.3806\n"
          ]
        }
      ]
    },
    {
      "cell_type": "code",
      "source": [
        "model_evaluation_history = new_cnn_model4.evaluate(x_test, y_test)"
      ],
      "metadata": {
        "colab": {
          "base_uri": "https://localhost:8080/"
        },
        "outputId": "6258bf1d-2bf1-45dd-d5e3-7e8eb36236af",
        "id": "9T206CEmlyFs"
      },
      "execution_count": 81,
      "outputs": [
        {
          "output_type": "stream",
          "name": "stdout",
          "text": [
            "313/313 [==============================] - 30s 92ms/step - loss: 2.3069 - accuracy: 0.0968\n"
          ]
        }
      ]
    },
    {
      "cell_type": "code",
      "source": [
        "# Visualize the training and validation loss metrices.\n",
        "plot_metric(new_cnn_model4_his, 'accuracy', 'val_accuracy', 'Total Accuracy vs Total Validation Accuracy')"
      ],
      "metadata": {
        "colab": {
          "base_uri": "https://localhost:8080/",
          "height": 281
        },
        "outputId": "766ca2ed-a54d-4fa9-d488-d81be1c6321f",
        "id": "dpOuOj6PlyFs"
      },
      "execution_count": 82,
      "outputs": [
        {
          "output_type": "display_data",
          "data": {
            "text/plain": [
              "<Figure size 432x288 with 1 Axes>"
            ],
            "image/png": "[encoded data removed]"
          },
          "metadata": {
            "needs_background": "light"
          }
        }
      ]
    },
    {
      "cell_type": "code",
      "source": [
        "from tensorflow.keras.utils import plot_model\n",
        "# Visualize the training and validation loss metrices.\n",
        "plot_metric(new_cnn_model4_his, 'loss', 'val_loss', 'Total Loss vs Total Validation Loss')"
      ],
      "metadata": {
        "colab": {
          "base_uri": "https://localhost:8080/",
          "height": 281
        },
        "outputId": "6c6bd2d4-d9c0-4298-dee5-27925f520349",
        "id": "GHOkOcUhlyFt"
      },
      "execution_count": 83,
      "outputs": [
        {
          "output_type": "display_data",
          "data": {
            "text/plain": [
              "<Figure size 432x288 with 1 Axes>"
            ],
            "image/png": "[encoded data removed]"
          },
          "metadata": {
            "needs_background": "light"
          }
        }
      ]
    },
    {
      "cell_type": "code",
      "source": [],
      "metadata": {
        "id": "Rxb6zCSDnJdV"
      },
      "execution_count": null,
      "outputs": []
    }
  ],
  "metadata": {
    "colab": {
      "provenance": []
    },
    "kernelspec": {
      "display_name": "Python 3",
      "name": "python3"
    },
    "language_info": {
      "name": "python"
    }
  },
  "nbformat": 4,
  "nbformat_minor": 0
}